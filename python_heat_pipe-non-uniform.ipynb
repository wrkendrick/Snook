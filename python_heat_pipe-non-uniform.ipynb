{
 "cells": [
  {
   "cell_type": "code",
   "execution_count": 1,
   "metadata": {},
   "outputs": [],
   "source": [
    "import numpy as np\n",
    "import math\n",
    "import matplotlib.pyplot as plt"
   ]
  },
  {
   "cell_type": "code",
   "execution_count": 2,
   "metadata": {},
   "outputs": [],
   "source": [
    "def saturation_temperature(pressure):\n",
    "    pvc = [-51.574, 0.20636, -0.29381e-3, 0.2231e-6, -0.86184e-10, 1.3299e-14]\n",
    "    tlo = 400.0\n",
    "    thi = 1800.0\n",
    "    for j in range(100):\n",
    "        temp = (tlo+thi)/2.0\n",
    "        pv = pvc[5]\n",
    "        for i in range(4,-1,-1):\n",
    "            pv = temp*pv + pvc[i]\n",
    "        pv = 10.0*math.exp(pv)  \n",
    "        #print(j,temp,pv,pressure)\n",
    "        if (abs(pv-pressure) < 0.001):\n",
    "            break\n",
    "        if (pv < pressure):\n",
    "            tlo = temp\n",
    "        else:\n",
    "            thi = temp\n",
    "    return temp"
   ]
  },
  {
   "cell_type": "code",
   "execution_count": 3,
   "metadata": {},
   "outputs": [],
   "source": [
    "def fmax(fmx,spec_heat_ratio, inlet_mach):\n",
    "    phi = (.3403/fmx**0.255)**2\n",
    "    if (inlet_mach > 1.0):\n",
    "        phi = (1.0286*math.exp(2.4938*fmx))**2\n",
    "    for i in range(50):\n",
    "        checkval = (spec_heat_ratio+1.0)*phi/2./(1.0+(spec_heat_ratio-1.0)/2.*phi)\n",
    "        f = (1.0-phi)/spec_heat_ratio/phi+(spec_heat_ratio+1.0)/2./spec_heat_ratio*math.log((spec_heat_ratio+1.0)*phi/2./(1.0+(spec_heat_ratio-1.0)/2.*phi))-fmx\n",
    "        if (abs(f)<0.0001):\n",
    "            break\n",
    "        df = (spec_heat_ratio+1.0)/(2.*spec_heat_ratio*phi*(1.0+(spec_heat_ratio-1.0)/2.*phi)) - 1.0/spec_heat_ratio/phi**2\n",
    "        df1 = (spec_heat_ratio+1.0)/(2.*spec_heat_ratio*phi*(1.0+(spec_heat_ratio-1.0)/2.*phi))\n",
    "        df2 = 1.0/spec_heat_ratio/phi**2\n",
    "        phi_new = phi - f/df\n",
    "        if (phi_new <= 0.0):\n",
    "            phi_new = 1e-6\n",
    "        if (inlet_mach < 1.0 and phi_new > 1.0):\n",
    "            phi_new = 0.9999\n",
    "        if (inlet_mach >= 1.0 and phi_new < 1.0):\n",
    "            phi_new = 1.0001\n",
    "        phi = phi_new\n",
    "    exit_mach = math.sqrt(phi)\n",
    "    return exit_mach"
   ]
  },
  {
   "cell_type": "code",
   "execution_count": 4,
   "metadata": {},
   "outputs": [],
   "source": [
    "def pressure_ratio(mach, spec_heat_ratio):\n",
    "    pressr = math.sqrt((spec_heat_ratio+1.0)/2./(1.0+(spec_heat_ratio-1.0)/2.*mach**2))/mach\n",
    "    return pressr"
   ]
  },
  {
   "cell_type": "code",
   "execution_count": 5,
   "metadata": {},
   "outputs": [],
   "source": [
    "def flmax(mach, spec_heat_ratio):\n",
    "    fl = (1.0-mach**2)/spec_heat_ratio/mach**2+(spec_heat_ratio+1.0)/2./spec_heat_ratio*math.log((spec_heat_ratio+1.0)*mach**2/2./(1.0+(spec_heat_ratio-1.0)/2.*mach**2))\n",
    "    return fl"
   ]
  },
  {
   "cell_type": "code",
   "execution_count": 6,
   "metadata": {},
   "outputs": [],
   "source": [
    "def friction(reynolds):\n",
    "    if (reynolds>2000 and reynolds <= 20000):\n",
    "        f= 0.079/reynolds**0.25\n",
    "    elif (reynolds>20000):\n",
    "        f = 0.046/reynolds**.2\n",
    "    else:\n",
    "        f = 16.0/reynolds\n",
    "    return f"
   ]
  },
  {
   "cell_type": "code",
   "execution_count": 7,
   "metadata": {},
   "outputs": [],
   "source": [
    "def fluid_properties(temp):\n",
    "    #coefficients for potassium\n",
    "    pvc = [-51.574, 0.20636, -0.29381e-3, 0.2231e-6, -0.86184e-10, 1.3299e-14]\n",
    "    rholc = [940.43, -0.42954, 0.42662e-3, -0.42981e-6, 0.19884e-9, -3.4521e-14]\n",
    "    mulc = [0.0016193, -0.55722e-5,0.87656e-8, -0.70683e-11, 2.8447e-15, -4.5263e-19]\n",
    "    muvc = [0.54558e-5, 0.69661e-8, 0.30725e-10, -3.9354e-14, 1.9365e-17, -3.5469e-21]\n",
    "    sigc = [0.13127, -6.6e-5, 2.7756e-17, -5.7598e-20, 1.7371e-23, -5.0487e-27]\n",
    "    hfgc = [2226400.0, 135.36, -0.60104, 0.15934e-3, 0.42749e-7, -0.20228e-10]\n",
    "    rhovc = [-0.60872e2, 0.19765, -0.28146e-3, 0.21319e-6, -0.82191e-10, 0.1268e-13]\n",
    "    ctlc = [0.68968e2, -0.36091e-1, -0.35049e-4, 0.60981e-7, -0.34141e-10, 0.66235e-14]\n",
    "    mwc = 39.1\n",
    "    rkc = [1.7402, -0.1238e-3]\n",
    "    pv = pvc[5]\n",
    "    rhol = rholc[5]\n",
    "    mul = mulc[5]\n",
    "    muv = muvc[5]\n",
    "    sig = sigc[5]\n",
    "    hfg = hfgc[5]\n",
    "    rhov = rhovc[5]\n",
    "    cfluid = ctlc[5]\n",
    "    for i in range(4,-1,-1):\n",
    "        pv = temp*pv + pvc[i]\n",
    "        rhol = temp*rhol + rholc[i]\n",
    "        mul = temp*mul + mulc[i]\n",
    "        muv = temp*muv + muvc[i]\n",
    "        sig = temp*sig + sigc[i]\n",
    "        hfg = temp*hfg + hfgc[i]\n",
    "        rhov = temp*rhov + rhovc[i]\n",
    "        cfluid = temp*cfluid + ctlc[i]\n",
    "    mw = mwc\n",
    "    rk = rkc[0]+temp*rkc[1]\n",
    "    pv = 10.0*math.exp(pv)\n",
    "    rhol = 0.001*rhol\n",
    "    muv = 10.0*muv\n",
    "    hfg = 0.001*hfg\n",
    "    sig = 1000.0*sig\n",
    "    rhov = 0.001*math.exp(rhov)\n",
    "    mul = 10.0*mul\n",
    "    return pv, rhol, mul, muv, sig, hfg, rhov, cfluid, mw, rk"
   ]
  },
  {
   "cell_type": "code",
   "execution_count": 8,
   "metadata": {},
   "outputs": [],
   "source": [
    "def dpe_evap(q_total):\n",
    "    q = q_total / 2.0\n",
    "    qhfg = q/hfg\n",
    "    qhfgt = q_total/hfg\n",
    "    dple = 6.0*mu_l*qhfg*le/(math.pi*rv*a**3*rho_l)\n",
    "    dv = 2*rv #math.sqrt(4.0*av/math.pi)  #diameter\n",
    "    vy = qhfgt/rho_v/av\n",
    "    reyv = 4.0*qhfgt/math.pi/mu_v/dv\n",
    "    rrn = qhfgt/2./math.pi/le/mu_v\n",
    "    psi = 0.61*rrn+0.61*rrn/(3.6+rrn) # velocity profile correction factor C\n",
    "    avis = 16.0/reyv*le/dv\n",
    "    beta= avis*psi\n",
    "    dpve = avis*(qhfgt/av)**2/rho_v\n",
    "    dpie = (qhfgt/av)**2*beta/rho_v\n",
    "    print(\"TESTING DPE_EVAP: \",dpie,dpve,dple)\n",
    "    print(q_total)\n",
    "    return dpie,dpve,dple"
   ]
  },
  {
   "cell_type": "code",
   "execution_count": 9,
   "metadata": {},
   "outputs": [],
   "source": [
    "def dpa_adiab(temp, q_total):\n",
    "    qhfg = q_total/hfg\n",
    "    dpla = 6.0*mu_l*qhfg*la/(math.pi*rv*a**3*rho_l)\n",
    "    rm1 = qhfg/av/rho_v/math.sqrt(rbar*temp/mw)  #mach number at exit\n",
    "    rey = 4.0*qhfg/math.pi/2.0/rv/mu_v\n",
    "    f = friction(rey)\n",
    "    if (rm1 > 0.2):\n",
    "        fl2 = flmax(rm1,rk)-4.0*f*la/2.0/rv\n",
    "        rm2 = 1.0\n",
    "        if (fl2 > 0.0):\n",
    "            rm2 = fmax(fl2,rk,rm1)\n",
    "    else:\n",
    "        rm2 = rm1\n",
    "    if (rm2 > 0.3):\n",
    "        pr = pressure_ratio(rm1,rk)/pressure_ratio(rm2,rk)\n",
    "        if (pr <1.0 or pr > 2.08):\n",
    "            pr = 2.08\n",
    "        pa2 = pv/pr\n",
    "        dpa = (pv-pa2)/2.0\n",
    "    else:\n",
    "        dpa = 2.0*f*la/(2.0*rv)*qhfg**2/rho_v/av**2\n",
    "        pa2 = pv-dpa\n",
    "    tbc = saturation_temperature(pa2)\n",
    "    return dpla, dpa"
   ]
  },
  {
   "cell_type": "code",
   "execution_count": 10,
   "metadata": {},
   "outputs": [],
   "source": [
    "def dpc_cond(q_total):\n",
    "    qhfg = q_total/hfg\n",
    "    qa = q1_array[i]\n",
    "    qb = q1_array[i+1]\n",
    "    lc1 = lc/cinc\n",
    "    cfract = (distance[i]-le-la)/lc\n",
    "    qrad = qa-qb\n",
    "    qhfg1 = (qa+qb)/(2.0*hfg)\n",
    "    dplc = 6.0*mu_l*qhfg1*lc1/(math.pi*rv*a**3*rho_l)\n",
    "    rreyc = -qhfg/2.0/math.pi/lc1/mu_v\n",
    "    reyc = 4.0*qhfg1/math.pi/2.0/rv/mu_v\n",
    "    vci = qa/hfg/av/rho_v\n",
    "    vcii = qb/hfg/av/rho_v\n",
    "    #Busse correction not yet added, check Reynolds\n",
    "    f = friction(reyc)\n",
    "    dpvc = 4.0*f*(lc1/2.0)*rho_v*vci**2/(4.0*rv)\n",
    "    lparam = (2.0*le+4.0*la)/lc\n",
    "    recov = (rreyc+2.0)/(1.23*rreyc-lparam)\n",
    "    dpic = -(vci**2-vcii**2)*rho_v*recov\n",
    "    return dpic, dpvc, dplc"
   ]
  },
  {
   "cell_type": "code",
   "execution_count": 11,
   "metadata": {},
   "outputs": [],
   "source": [
    "def sonic_limit(temp, q_total):\n",
    "    pv, rho_l, mu_l, mu_v, sig, hfg, rho_v, cfluid, mw, rk = fluid_properties(temp)\n",
    "    qs = q_total/hfg\n",
    "    for i in range(10):\n",
    "        reys = 4.0*qs/math.pi/2.0/rv/mu_v\n",
    "        f = friction(reys)\n",
    "        fli = 4.0*f*la/2.0/rv\n",
    "        rmis = fmax(fli,rk,0.0)\n",
    "        w1 = rmis*math.sqrt(rbar*temp/mw)\n",
    "        rreys = reys*rv/4.0/le\n",
    "        ab = 1.22+1.22/(3.6+rreys)\n",
    "        dpvs = 8.0*mu_v*w1/rv**2*le/2.0\n",
    "        dpis = rho_v*ab*w1**2\n",
    "        pos = pv + dpis + dpvs\n",
    "        te_sonic = saturation_temperature(pos)\n",
    "        q_sonic = math.sqrt(rho_v*pv)*av*hfg*rmis\n",
    "        pci = pv/pressure_ratio(rmis,rk)\n",
    "        tc_sonic = saturation_temperature(pci)\n",
    "        if abs(q_sonic-qs*hfg)<1.0:\n",
    "            break\n",
    "        else:\n",
    "            qs = q_sonic/hfg\n",
    "    return q_sonic, pci, tc_sonic"
   ]
  },
  {
   "cell_type": "code",
   "execution_count": 12,
   "metadata": {},
   "outputs": [],
   "source": [
    "def entrainment_limit(temp,pci,tc_sonic):\n",
    "    pv, rho_l, mu_l, mu_v, sig, hfg, rho_v, cfluid, mw, rk = fluid_properties(temp)\n",
    "    tcie = tc_sonic\n",
    "    p2e = pci\n",
    "    z = wire_radius\n",
    "    for i in range(10):\n",
    "        rhov1 = mw*p2e/(rbar*tcie)\n",
    "        w2e = math.sqrt(2.0*math.pi/z/rhov1)\n",
    "        rm2e = w2e/math.sqrt(rk*rbar/mw*tcie)\n",
    "        if rm2e > 1.0:\n",
    "            rm2e = 1.0\n",
    "        reye = 2.0*rv*rhov1*w2e/mu_v\n",
    "        f = friction(reye)\n",
    "        fl2e = 4.0*f*la/2.0/rv\n",
    "        fl1e = fl2e + flmax(rm2e,rk)\n",
    "        rm1e = fmax(fl1e,rk,0.0)\n",
    "        p2e = pv*pressure_ratio(rm2e,rk)/pressure_ratio(rm1e,rk)\n",
    "        tcie2 = saturation_temperature(p2e)\n",
    "        if abs(tcie2-tcie)<1.0:\n",
    "            break\n",
    "        else:\n",
    "            tcie = tcie2\n",
    "    qentrn = math.sqrt(2.0*math.pi*rhov1*sig/z)*hfg*av\n",
    "    return qentrn"
   ]
  },
  {
   "cell_type": "code",
   "execution_count": 13,
   "metadata": {},
   "outputs": [],
   "source": [
    "def boiling_limit(temp):\n",
    "    pv, rho_l, mu_l, mu_v, sig, hfg, rho_v, cfluid, mw, rk = fluid_properties(temp)\n",
    "    rnuc = 0.00127  #nucleation site radius\n",
    "    dtboil = 2.0*sig*temp/(rho_v*hfg*rnuc)\n",
    "    rkw = eff_pore_radius*cfluid + (1.0-eff_pore_radius)*k_wick\n",
    "    a1 = 2.0*math.pi*radius_in*le\n",
    "    dtloq = a/(a1*rkw)\n",
    "    alv = 2.0*math.pi*(radius_in-a)*le*eff_pore_radius\n",
    "    r = rbar/mw\n",
    "    dtlv = (2.0*math.pi)**0.5*r**1.5*temp**2.5/(alv*pv*hfg**2)\n",
    "    qboil = dtboil/(dtloq+dtlv)\n",
    "    return qboil"
   ]
  },
  {
   "cell_type": "code",
   "execution_count": 14,
   "metadata": {},
   "outputs": [
    {
     "name": "stdout",
     "output_type": "stream",
     "text": [
      "q total =  14000\n"
     ]
    }
   ],
   "source": [
    "t_sink = 300\n",
    "q_total = 15122 #total power in watts\n",
    "le = 50.0\n",
    "la = 20.0\n",
    "lc = 50.0\n",
    "cinc = 10 #increment in condenser\n",
    "ainc = 6\n",
    "einc = 10\n",
    "valuee = 1400\n",
    "qe_array = [valuee,valuee,valuee,valuee,valuee,valuee,valuee,valuee,valuee,valuee]\n",
    "#qe_array = [150,150,150,150,150,1500,1500,3000,4000,5000]\n",
    "q_total = sum(qe_array)\n",
    "print('q total = ', q_total)\n",
    "theta = 0.0  #inclination angle\n",
    "radius_in = 1.75 \n",
    "wick_porosity = 0.6\n",
    "k_wick = 0.13\n",
    "k_wall = 0.13\n",
    "nucl_radius = 0.00127\n",
    "radius_out = 1.9\n",
    "screen_thickness = 0.1\n",
    "wire_radius = 0.002\n",
    "annulus_thickness = 0.1\n",
    "eff_pore_radius = 0.004\n",
    "h_sink = 0.05\n",
    "rbar = 8.314e7\n",
    "grav = 980.0\n",
    "\n",
    "a = annulus_thickness\n",
    "cond_area = 2*math.pi*lc*radius_out/cinc #condenser area for each mesh, acondi\n",
    "abd = math.log(radius_out/radius_in)\n",
    "abc = math.log(radius_in/(radius_in-annulus_thickness))\n",
    "\n",
    "icondb = einc+ainc+1 #index of beginning of condenser\n",
    "iconde = einc+ainc+cinc #index of end of condenser\n",
    "iadiab = einc+ainc\n",
    "if (t_sink > 400.0):   #for potassium\n",
    "    tlow = t_sink\n",
    "else:\n",
    "    tlow = 400.0\n",
    "thigh = 1800.0  # for potassium"
   ]
  },
  {
   "cell_type": "code",
   "execution_count": 15,
   "metadata": {},
   "outputs": [
    {
     "name": "stdout",
     "output_type": "stream",
     "text": [
      "TESTING DPE_EVAP:  1421.7637740998134 20.15045732599842 437.97050669210245\n",
      "14000\n",
      "TESTING DPE_EVAP:  15.034002687922861 2.0150457325998423 43.79705066921024\n",
      "1400.0\n",
      "TESTING DPE_EVAP:  58.51873164413458 4.030091465199685 87.59410133842049\n",
      "2800.0\n",
      "TESTING DPE_EVAP:  130.2244203620483 6.045137197799528 131.39115200763075\n",
      "4200.0\n",
      "TESTING DPE_EVAP:  230.1343515650842 8.06018293039937 175.18820267684097\n",
      "5600.0\n",
      "TESTING DPE_EVAP:  358.2443918646831 10.07522866299921 218.98525334605122\n",
      "7000.0\n",
      "TESTING DPE_EVAP:  514.5530264821552 12.090274395599057 262.7823040152615\n",
      "8400.0\n",
      "TESTING DPE_EVAP:  699.05956908084 14.1053201281989 306.5793546844717\n",
      "9800.0\n",
      "TESTING DPE_EVAP:  911.7636635370416 16.12036586079874 350.37640535368195\n",
      "11200.0\n",
      "TESTING DPE_EVAP:  1152.6651066704972 18.135411593398583 394.17345602289214\n",
      "12600.0\n",
      "TESTING DPE_EVAP:  1421.7637740998134 20.15045732599842 437.97050669210245\n",
      "14000.0\n",
      "iteration  0 22519.75076985606 14000 1100.0\n",
      "TESTING DPE_EVAP:  54810.90966815505 688.1941622191995 517.9676020852047\n",
      "14000\n",
      "TESTING DPE_EVAP:  576.8779201795157 68.81941622191995 51.79676020852046\n",
      "1400.0\n",
      "TESTING DPE_EVAP:  2249.81844940303 137.6388324438399 103.59352041704092\n",
      "2800.0\n",
      "TESTING DPE_EVAP:  5011.487280381404 206.4582486657598 155.39028062556142\n",
      "4200.0\n",
      "TESTING DPE_EVAP:  8861.408131400343 275.2776648876798 207.18704083408184\n",
      "5600.0\n",
      "TESTING DPE_EVAP:  13799.465690955789 344.09708110959974 258.98380104260235\n",
      "7000.0\n",
      "TESTING DPE_EVAP:  19825.61812015605 412.9164973315196 310.78056125112283\n",
      "8400.0\n",
      "TESTING DPE_EVAP:  26939.84657547566 481.7359135534394 362.57732145964314\n",
      "9800.0\n",
      "TESTING DPE_EVAP:  35142.14131896617 550.5553297753596 414.3740816681637\n",
      "11200.0\n",
      "TESTING DPE_EVAP:  44432.496811068115 619.3747459972794 466.17084187668416\n",
      "12600.0\n",
      "TESTING DPE_EVAP:  54810.90966815505 688.1941622191995 517.9676020852047\n",
      "14000.0\n",
      "iteration  1 13135.484596542216 14000 750.0\n",
      "TESTING DPE_EVAP:  6050.895478447952 82.30759428487458 463.4449621499489\n",
      "14000\n",
      "TESTING DPE_EVAP:  63.880304728603214 8.23075942848746 46.34449621499489\n",
      "1400.0\n",
      "TESTING DPE_EVAP:  248.8136689733226 16.46151885697492 92.68899242998978\n",
      "2800.0\n",
      "TESTING DPE_EVAP:  553.8822747974458 24.692278285462375 139.03348864498466\n",
      "4200.0\n",
      "TESTING DPE_EVAP:  979.0218625742444 32.92303771394984 185.37798485997956\n",
      "5600.0\n",
      "TESTING DPE_EVAP:  1524.216660101005 41.15379714243729 231.72248107497444\n",
      "7000.0\n",
      "TESTING DPE_EVAP:  2189.460907464029 49.38455657092475 278.0669772899693\n",
      "8400.0\n",
      "TESTING DPE_EVAP:  2974.752000374955 57.6153159994122 324.41147350496425\n",
      "9800.0\n",
      "TESTING DPE_EVAP:  3880.088589452148 65.84607542789968 370.7559697199591\n",
      "11200.0\n",
      "TESTING DPE_EVAP:  4905.469905622184 74.07683485638714 417.10046593495395\n",
      "12600.0\n",
      "TESTING DPE_EVAP:  6050.895478447952 82.30759428487458 463.4449621499489\n",
      "14000.0\n",
      "iteration  2 17609.101287689526 14000 925.0\n",
      "TESTING DPE_EVAP:  15910.297156780316 209.13651283525184 484.52003092922695\n",
      "14000\n",
      "TESTING DPE_EVAP:  167.74561887561939 20.913651283525173 48.452003092922695\n",
      "1400.0\n",
      "TESTING DPE_EVAP:  653.727759436533 41.827302567050346 96.90400618584539\n",
      "2800.0\n",
      "TESTING DPE_EVAP:  1455.6583896278735 62.74095385057553 145.35600927876808\n",
      "4200.0\n",
      "TESTING DPE_EVAP:  2573.382380735243 83.65460513410069 193.80801237169078\n",
      "5600.0\n",
      "TESTING DPE_EVAP:  4006.8618831325293 104.56825641762592 242.26001546461347\n",
      "7000.0\n",
      "TESTING DPE_EVAP:  5756.083113369092 125.48190770115106 290.71201855753617\n",
      "8400.0\n",
      "TESTING DPE_EVAP:  7821.039849970689 146.39555898467628 339.1640216504589\n",
      "9800.0\n",
      "TESTING DPE_EVAP:  10201.728873045768 167.30921026820138 387.61602474338156\n",
      "11200.0\n",
      "TESTING DPE_EVAP:  12898.1483489551 188.22286155172657 436.0680278363042\n",
      "12600.0\n",
      "TESTING DPE_EVAP:  15910.297156780316 209.13651283525184 484.52003092922695\n",
      "14000.0\n",
      "iteration  3 15221.380124361836 14000 837.5\n",
      "TESTING DPE_EVAP:  28347.771401277983 364.75529940906245 499.23975546172784\n",
      "14000\n",
      "TESTING DPE_EVAP:  298.63309909641384 36.47552994090624 49.923975546172784\n",
      "1400.0\n",
      "TESTING DPE_EVAP:  1164.2115300669025 72.95105988181248 99.84795109234557\n",
      "2800.0\n",
      "TESTING DPE_EVAP:  2592.7927671202415 109.42658982271874 149.77192663851835\n",
      "4200.0\n",
      "TESTING DPE_EVAP:  4584.114815488697 145.90211976362497 199.69590218469114\n",
      "5600.0\n",
      "TESTING DPE_EVAP:  7138.11398342361 182.37764970453122 249.61987773086392\n",
      "7000.0\n",
      "TESTING DPE_EVAP:  10254.767116599272 218.85317964543748 299.5438532770367\n",
      "8400.0\n",
      "TESTING DPE_EVAP:  13934.063774576236 255.3287095863436 349.4678288232096\n",
      "9800.0\n",
      "TESTING DPE_EVAP:  18175.99855772248 291.80423952724993 399.39180436938227\n",
      "11200.0\n",
      "TESTING DPE_EVAP:  22980.5683926464 328.2797694681562 449.31577991555514\n",
      "12600.0\n",
      "TESTING DPE_EVAP:  28347.771401277983 364.75529940906245 499.23975546172784\n",
      "14000.0\n",
      "iteration  4 14084.506446507788 14000 793.75\n",
      "TESTING DPE_EVAP:  38976.685815449164 495.6174829315179 508.03627754678945\n",
      "14000\n",
      "TESTING DPE_EVAP:  410.42052139355206 49.56174829315177 50.80362775467894\n",
      "1400.0\n",
      "TESTING DPE_EVAP:  1600.3134438461034 99.12349658630355 101.60725550935788\n",
      "2800.0\n",
      "TESTING DPE_EVAP:  3564.3580336736104 148.68524487945535 152.41088326403684\n",
      "4200.0\n",
      "TESTING DPE_EVAP:  6302.204625470559 198.2469931726071 203.21451101871577\n",
      "5600.0\n",
      "TESTING DPE_EVAP:  9813.768383633518 247.80874146575894 254.01813877339472\n",
      "7000.0\n",
      "TESTING DPE_EVAP:  14099.018496272623 297.3704897589107 304.8217665280737\n",
      "8400.0\n",
      "TESTING DPE_EVAP:  19157.941077944884 346.9322380520624 355.6253942827526\n",
      "9800.0\n",
      "TESTING DPE_EVAP:  24990.52895004889 396.4939863452142 406.42902203743154\n",
      "11200.0\n",
      "TESTING DPE_EVAP:  31596.77802775447 446.05573463836623 457.2326497921105\n",
      "12600.0\n",
      "TESTING DPE_EVAP:  38976.685815449164 495.6174829315179 508.03627754678945\n",
      "14000.0\n",
      "iteration  5 13645.691671878374 14000 771.875\n",
      "TESTING DPE_EVAP:  33151.1894446135 424.08704309791926 503.5048854445376\n",
      "14000\n",
      "TESTING DPE_EVAP:  349.158190019121 42.40870430979194 50.35048854445375\n",
      "1400.0\n",
      "TESTING DPE_EVAP:  1361.3083969168251 84.81740861958389 100.7009770889075\n",
      "2800.0\n",
      "TESTING DPE_EVAP:  3031.8820355981215 127.2261129293758 151.05146563336123\n",
      "4200.0\n",
      "TESTING DPE_EVAP:  5360.577164526595 169.63481723916777 201.401954177815\n",
      "5600.0\n",
      "TESTING DPE_EVAP:  8347.320452756187 212.04352154895963 251.7524427222688\n",
      "7000.0\n",
      "TESTING DPE_EVAP:  11992.085254114974 254.4522258587516 302.10293126672246\n",
      "8400.0\n",
      "TESTING DPE_EVAP:  16294.85955700992 296.8609301685435 352.4534198111763\n",
      "9800.0\n",
      "TESTING DPE_EVAP:  21255.63715039805 339.26963447833555 402.80390835563\n",
      "11200.0\n",
      "TESTING DPE_EVAP:  26874.414499524195 381.6783387881273 453.1543969000838\n",
      "12600.0\n",
      "TESTING DPE_EVAP:  33151.1894446135 424.08704309791926 503.5048854445376\n",
      "14000.0\n",
      "iteration  6 13738.371037216268 14000 782.8125\n",
      "TESTING DPE_EVAP:  30635.533791089292 393.05701410121054 501.34009044682864\n",
      "14000\n",
      "TESTING DPE_EVAP:  322.69846552036904 39.30570141012105 50.13400904468286\n",
      "1400.0\n",
      "TESTING DPE_EVAP:  1258.0875193401587 78.6114028202421 100.26801808936573\n",
      "2800.0\n",
      "TESTING DPE_EVAP:  2801.9257322219946 117.91710423036312 150.40202713404864\n",
      "4200.0\n",
      "TESTING DPE_EVAP:  4953.932009822132 157.2228056404842 200.53603617873145\n",
      "5600.0\n",
      "TESTING DPE_EVAP:  7714.038050491078 196.52850705060527 250.67004522341432\n",
      "7000.0\n",
      "TESTING DPE_EVAP:  11082.219029747579 235.83420846072624 300.8040542680973\n",
      "8400.0\n",
      "TESTING DPE_EVAP:  15058.463755614017 275.13990987084736 350.93806331278006\n",
      "9800.0\n",
      "TESTING DPE_EVAP:  19642.766440313477 314.4456112809684 401.0720723574629\n",
      "11200.0\n",
      "TESTING DPE_EVAP:  24835.12378974988 353.75131269108954 451.2060814021458\n",
      "12600.0\n",
      "TESTING DPE_EVAP:  30635.533791089292 393.05701410121054 501.34009044682864\n",
      "14000.0\n",
      "iteration  7 13906.638938051214 14000 788.28125\n",
      "TESTING DPE_EVAP:  29464.709954429447 378.58312568397537 500.28199474190313\n",
      "14000\n",
      "TESTING DPE_EVAP:  310.38269433400194 37.858312568397544 50.028199474190316\n",
      "1400.0\n",
      "TESTING DPE_EVAP:  1210.044692596042 75.71662513679509 100.05639894838063\n",
      "2800.0\n",
      "TESTING DPE_EVAP:  2694.897365291137 113.57493770519265 150.08459842257096\n",
      "4200.0\n",
      "TESTING DPE_EVAP:  4764.669375250196 151.43325027359018 200.11279789676126\n",
      "5600.0\n",
      "TESTING DPE_EVAP:  7419.294775554698 189.29156284198768 250.14099737095157\n",
      "7000.0\n",
      "TESTING DPE_EVAP:  10658.749594789737 227.1498754103853 300.1691968451419\n",
      "8400.0\n",
      "TESTING DPE_EVAP:  14483.023024828657 265.00818797878287 350.19739631933214\n",
      "9800.0\n",
      "TESTING DPE_EVAP:  18892.10947613664 302.86650054718035 400.22559579352253\n",
      "11200.0\n",
      "TESTING DPE_EVAP:  23886.005767338986 340.724813115578 450.2537952677128\n",
      "12600.0\n",
      "TESTING DPE_EVAP:  29464.709954429447 378.58312568397537 500.28199474190313\n",
      "14000.0\n",
      "Converged  8 14002.990573118805 14000 791.015625\n",
      "4941.737936388189\n",
      "0.0 819.4840148091316 0.0 0.0\n",
      "5.0 819.2029435187578 1400.0 348.2410069023995\n",
      "10.0 818.4415502473712 2800.0 1285.7613177328371\n",
      "15.0 817.1899700537324 4200.0 2808.4723029963293\n",
      "20.0 815.4260778799653 5600.0 4916.102625523787\n",
      "25.0 813.1168393418193 7000.0 7608.586338396686\n",
      "30.0 810.2159468457103 8400.0 10885.899470200122\n",
      "35.0 806.6599693149328 9800.0 14748.03121280744\n",
      "40.0 802.3623153567314 11200.0 19194.97597668382\n",
      "45.0 797.2036004066467 12600.0 24226.730580454565\n",
      "50.0 791.015625 14000.0 29843.29308011342\n"
     ]
    },
    {
     "name": "stdout",
     "output_type": "stream",
     "text": [
      "53.333333333333336 790.118625946343 14000.0 30621.010579996335\n",
      "56.666666666666664 789.2110761255026 14000.0 31398.728079879245\n",
      "60.0 788.2926899939775 14000.0 32176.445579762156\n",
      "63.333333333333336 787.3631794005632 14000.0 32954.16307964507\n",
      "66.66666666666667 786.422236636281 14000.0 33731.880579527984\n",
      "70.0 785.4695409536362 14000.0 34509.59807941089\n",
      "75.0 789.4688684493303 12633.42531715348 31178.745749530386\n",
      "80.0 793.011112511158 11255.5924743368 28080.512614313997\n",
      "85.0 795.9072381258011 9867.788916183868 25440.44727489901\n",
      "90.0 798.2698824256659 8471.833345066985 23213.349744172403\n",
      "95.0 800.1760769635439 7069.227408567488 21367.356512928673\n",
      "100.0 801.6794921830297 5661.255923401973 19879.87258819414\n",
      "105.0 802.8174951672554 4249.052633087747 18735.15890095231\n",
      "110.0 803.6153271794319 2833.646099167142 17922.870852431224\n",
      "115.0 804.0885914117098 1415.9938333231812 17437.20539368503\n",
      "120.0 804.243003949523 -2.990573118804832 17278.12596926246\n"
     ]
    }
   ],
   "source": [
    "total_mesh = cinc+ainc+einc+1\n",
    "distance = np.zeros(total_mesh)\n",
    "dpi_array = np.zeros(total_mesh)\n",
    "dpv_array = np.zeros(total_mesh)\n",
    "dpl_array = np.zeros(total_mesh)\n",
    "dpv_total = np.zeros(total_mesh)\n",
    "dpa_array = np.zeros(total_mesh)\n",
    "dp_array = np.zeros(total_mesh)\n",
    "q1_array = np.zeros(total_mesh)\n",
    "pvap = np.zeros(total_mesh)\n",
    "tempx = np.zeros(total_mesh)\n",
    "for i in range(einc+1):\n",
    "    distance[i] = i*le/einc\n",
    "for i in range(einc+1,einc+ainc+1):\n",
    "    distance[i] = le + (i-(einc))*la/ainc\n",
    "for i in range(einc+ainc+1,total_mesh):\n",
    "    distance[i] = le + la + (i-(einc+ainc))*lc/cinc\n",
    "#only once\n",
    "rv = radius_in - annulus_thickness - screen_thickness\n",
    "b = (radius_in+rv+screen_thickness)*math.pi\n",
    "av = math.pi*rv*rv\n",
    "rh = a*b/(a+b)\n",
    "al = a*b\n",
    "#iteration on T evaporator exit\n",
    "for k in range(20):\n",
    "    tguess = (thigh+tlow)/2  # guess temperature at the end of evaporator, iterate until q in equals q out\n",
    "    ### EVAPORATOR\n",
    "    pv, rho_l, mu_l, mu_v, sig, hfg, rho_v, cfluid, mw, rk = fluid_properties(tguess)\n",
    "    #conduction heat sink\n",
    "    rcond = (1/h_sink+radius_out*abd/k_wall+radius_in/cfluid*abc)/cond_area  #heat transfer from inside to outside\n",
    "    dpie,dpve,dple = dpe_evap(q_total)\n",
    "    dpe = dpie+dpve\n",
    "    pvap[0] = pv + dpe\n",
    "    tempx[0]= saturation_temperature(pvap[0])\n",
    "    for i in range(1,einc+1):  #boundary 1 to 5\n",
    "        q1_array[i] = q1_array[i-1]+qe_array[i-1]\n",
    "        dpie,dpve,dple = dpe_evap(q1_array[i])\n",
    "        dpi_array[i] = dpie\n",
    "        dpv_array[i] = dpve\n",
    "        dpl_array[i] = dple\n",
    "        dpe = dpi_array[i]+dpv_array[i]\n",
    "        pvap[i] = pvap[0]-dpe\n",
    "        tempx[i] =saturation_temperature(pvap[i])\n",
    "        dpv_total[i] = dpv_array[i]+dpi_array[i]+dpa_array[i]\n",
    "    ### ADIABATIC\n",
    "    dpla, dpa = dpa_adiab(tguess, q_total)\n",
    "    # print(k,\" -- DPLA: \",dpla,\" , DPA: \",dpa)\n",
    "    for i in range (einc+1,iadiab+1):  # boundary 6 and 8\n",
    "        afract = (distance[i]-le)/la\n",
    "        dpa_array[i] = dpa*afract\n",
    "        dpl_array[i] = dpl_array[i-1] + dpla/ainc\n",
    "        q1_array[i] = q1_array[i-1]\n",
    "        dpi_array[i] = dpi_array[i-1]\n",
    "        dpv_array[i] = dpv_array[i-1]\n",
    "        pvap[i] = pvap[einc] - dpa_array[i]\n",
    "        tempx[i] = saturation_temperature(pvap[i])\n",
    "        dpv_total[i] = dpv_array[i]+dpi_array[i]+dpa_array[i]\n",
    "    pvap[icondb-1] = pv-dpa\n",
    "    tempx[icondb-1] = saturation_temperature(pvap[icondb-1])\n",
    "    q1_array[icondb-1] = q_total\n",
    "    ### CONDENSOR - convective coupling\n",
    "    qcond = 0.0\n",
    "    for i in range(icondb-1,iconde):\n",
    "        qout = (tempx[i]-t_sink)/rcond   #heat out in mesh i\n",
    "        if (qout < 0.0):    #if t_sink > tempx, guess temperature is too high\n",
    "            print('ierror 2')\n",
    "            thigh = tguess\n",
    "            break\n",
    "        qcond = qcond + qout\n",
    "        q1_array[i+1] = q1_array[i]-qout\n",
    "        dpic,dpvc, dplc = dpc_cond(q_total)\n",
    "        dpc = dpic+dpvc\n",
    "        ### end of dpcond\n",
    "        pvap[i+1] = pvap[i]-dpc\n",
    "        if (pvap[i+1] < 0.0):\n",
    "            print('ierror 3')\n",
    "            break\n",
    "        tempx[i+1] = saturation_temperature(pvap[i+1])\n",
    "        pv, rho_l, mu_l, mu_v, sig, hfg, rho_v, cfluid, mw, rk = fluid_properties(tempx[i+1])\n",
    "        #conduction heat sink\n",
    "        rcond = (1/h_sink+radius_out*abd/k_wall+radius_in/cfluid*abc)/cond_area  #heat transfer from inside to outside\n",
    "        dpi_array[i+1] = dpi_array[i]+dpic\n",
    "        dpv_array[i+1] = dpv_array[i]+dpvc\n",
    "        dpa_array[i+1] = dpa_array[i]\n",
    "        dpl_array[i+1] = dpl_array[i]+dplc\n",
    "        dpv_total[i+1] = dpv_total[i]+dpc\n",
    "    if abs((qcond-q_total)/q_total)<0.001:\n",
    "        print('Converged ', k, qcond, q_total, tguess)\n",
    "        break\n",
    "    elif (qcond > q_total):\n",
    "        thigh = tguess\n",
    "    else:\n",
    "        tlow = tguess\n",
    "    print('iteration ', k, qcond,q_total, tguess)\n",
    "#add limit checks\n",
    "# capillary, sonic, boiling and entrainment limits\n",
    "if (min(pvap) < max(dpv_total)):\n",
    "    print('Capillary limit exceeded')\n",
    "q_sonic, pci, tc_sonic = sonic_limit(tguess,q_total)\n",
    "if (q_total > q_sonic):\n",
    "    print('Sonic limit exceeded')\n",
    "q_entrn = entrainment_limit(tguess, pci,tc_sonic)\n",
    "if (q_total > q_entrn):\n",
    "    print('Entrainment limit exceeded')\n",
    "q_boil = boiling_limit(tguess)\n",
    "print(q_boil)\n",
    "for i in range(len(tempx)):\n",
    "    print(distance[i],tempx[i],q1_array[i],dpv_total[i])"
   ]
  },
  {
   "cell_type": "code",
   "execution_count": 16,
   "metadata": {
    "scrolled": true
   },
   "outputs": [
    {
     "name": "stdout",
     "output_type": "stream",
     "text": [
      "    0.00    819.48      0.00      0.00\n",
      "    5.00    819.20   1400.00    348.24\n",
      "   10.00    818.44   2800.00   1285.76\n",
      "   15.00    817.19   4200.00   2808.47\n",
      "   20.00    815.43   5600.00   4916.10\n",
      "   25.00    813.12   7000.00   7608.59\n",
      "   30.00    810.22   8400.00  10885.90\n",
      "   35.00    806.66   9800.00  14748.03\n",
      "   40.00    802.36  11200.00  19194.98\n",
      "   45.00    797.20  12600.00  24226.73\n",
      "   50.00    791.02  14000.00  29843.29\n",
      "   53.33    790.12  14000.00  30621.01\n",
      "   56.67    789.21  14000.00  31398.73\n",
      "   60.00    788.29  14000.00  32176.45\n",
      "   63.33    787.36  14000.00  32954.16\n",
      "   66.67    786.42  14000.00  33731.88\n",
      "   70.00    785.47  14000.00  34509.60\n",
      "   75.00    789.47  12633.43  31178.75\n",
      "   80.00    793.01  11255.59  28080.51\n",
      "   85.00    795.91   9867.79  25440.45\n",
      "   90.00    798.27   8471.83  23213.35\n",
      "   95.00    800.18   7069.23  21367.36\n",
      "  100.00    801.68   5661.26  19879.87\n",
      "  105.00    802.82   4249.05  18735.16\n",
      "  110.00    803.62   2833.65  17922.87\n",
      "  115.00    804.09   1415.99  17437.21\n",
      "  120.00    804.24     -2.99  17278.13\n"
     ]
    }
   ],
   "source": [
    "fmt = '{:{f}}  {:{f}}  {:{f}}  {:{f}}'\n",
    "for i in range(total_mesh):\n",
    "    print(fmt.format(distance[i],tempx[i],q1_array[i],dpv_total[i], f='8.2f'))"
   ]
  },
  {
   "cell_type": "code",
   "execution_count": 17,
   "metadata": {},
   "outputs": [
    {
     "data": {
      "text/plain": [
       "[<matplotlib.lines.Line2D at 0x7fa386478d00>]"
      ]
     },
     "execution_count": 17,
     "metadata": {},
     "output_type": "execute_result"
    },
    {
     "data": {
      "image/png": "[encoded data removed]",
      "text/plain": [
       "<Figure size 432x288 with 1 Axes>"
      ]
     },
     "metadata": {
      "needs_background": "light"
     },
     "output_type": "display_data"
    }
   ],
   "source": [
    "plt.plot(distance,tempx)"
   ]
  },
  {
   "cell_type": "code",
   "execution_count": 18,
   "metadata": {},
   "outputs": [
    {
     "data": {
      "text/plain": [
       "array([ 0.00000000e+00,  1.40000000e+03,  2.80000000e+03,  4.20000000e+03,\n",
       "        5.60000000e+03,  7.00000000e+03,  8.40000000e+03,  9.80000000e+03,\n",
       "        1.12000000e+04,  1.26000000e+04,  1.40000000e+04,  1.40000000e+04,\n",
       "        1.40000000e+04,  1.40000000e+04,  1.40000000e+04,  1.40000000e+04,\n",
       "        1.40000000e+04,  1.26334253e+04,  1.12555925e+04,  9.86778892e+03,\n",
       "        8.47183335e+03,  7.06922741e+03,  5.66125592e+03,  4.24905263e+03,\n",
       "        2.83364610e+03,  1.41599383e+03, -2.99057312e+00])"
      ]
     },
     "execution_count": 18,
     "metadata": {},
     "output_type": "execute_result"
    }
   ],
   "source": [
    "q1_array"
   ]
  },
  {
   "cell_type": "code",
   "execution_count": 19,
   "metadata": {},
   "outputs": [
    {
     "data": {
      "text/plain": [
       "array([  0.        ,   5.        ,  10.        ,  15.        ,\n",
       "        20.        ,  25.        ,  30.        ,  35.        ,\n",
       "        40.        ,  45.        ,  50.        ,  53.33333333,\n",
       "        56.66666667,  60.        ,  63.33333333,  66.66666667,\n",
       "        70.        ,  75.        ,  80.        ,  85.        ,\n",
       "        90.        ,  95.        , 100.        , 105.        ,\n",
       "       110.        , 115.        , 120.        ])"
      ]
     },
     "execution_count": 19,
     "metadata": {},
     "output_type": "execute_result"
    }
   ],
   "source": [
    "distance"
   ]
  },
  {
   "cell_type": "code",
   "execution_count": 20,
   "metadata": {},
   "outputs": [
    {
     "data": {
      "text/plain": [
       "array([    0.        ,   348.2410069 ,  1285.76131773,  2808.472303  ,\n",
       "        4916.10262552,  7608.5863384 , 10885.8994702 , 14748.03121281,\n",
       "       19194.97597668, 24226.73058045, 29843.29308011, 30621.01058   ,\n",
       "       31398.72807988, 32176.44557976, 32954.16307965, 33731.88057953,\n",
       "       34509.59807941, 31178.74574953, 28080.51261431, 25440.4472749 ,\n",
       "       23213.34974417, 21367.35651293, 19879.87258819, 18735.15890095,\n",
       "       17922.87085243, 17437.20539369, 17278.12596926])"
      ]
     },
     "execution_count": 20,
     "metadata": {},
     "output_type": "execute_result"
    }
   ],
   "source": [
    "dpv_total"
   ]
  },
  {
   "cell_type": "code",
   "execution_count": 21,
   "metadata": {},
   "outputs": [
    {
     "data": {
      "text/plain": [
       "array([85258.54232356, 84910.30131665, 83972.78100582, 82450.07002056,\n",
       "       80342.43969803, 77649.95598516, 74372.64285336, 70510.51111075,\n",
       "       66063.56634687, 61031.8117431 , 55415.24924344, 54637.53174356,\n",
       "       53859.81424368, 53082.09674379, 52304.37924391, 51526.66174403,\n",
       "       50748.94424415, 54079.79657403, 57178.02970924, 59818.09504866,\n",
       "       62045.19257938, 63891.18581063, 65378.66973536, 66523.3834226 ,\n",
       "       67335.67147112, 67821.33692987, 67980.41635429])"
      ]
     },
     "execution_count": 21,
     "metadata": {},
     "output_type": "execute_result"
    }
   ],
   "source": [
    "pvap"
   ]
  },
  {
   "cell_type": "code",
   "execution_count": 22,
   "metadata": {},
   "outputs": [
    {
     "data": {
      "text/plain": [
       "array([    0.        ,   310.38269433,  1210.0446926 ,  2694.89736529,\n",
       "        4764.66937525,  7419.29477555, 10658.74959479, 14483.02302483,\n",
       "       18892.10947614, 23886.00576734, 29464.70995443, 29464.70995443,\n",
       "       29464.70995443, 29464.70995443, 29464.70995443, 29464.70995443,\n",
       "       29464.70995443, 25860.33622165, 22528.19051643, 19705.9507321 ,\n",
       "       17339.52808765, 15389.9360307 , 13828.58589189, 12634.46329381,\n",
       "       11792.36833499, 11291.80279666, 11126.28209936])"
      ]
     },
     "execution_count": 22,
     "metadata": {},
     "output_type": "execute_result"
    }
   ],
   "source": [
    "dpi_array"
   ]
  },
  {
   "cell_type": "code",
   "execution_count": 23,
   "metadata": {},
   "outputs": [
    {
     "data": {
      "text/plain": [
       "array([   0.        ,   37.85831257,   75.71662514,  113.57493771,\n",
       "        151.43325027,  189.29156284,  227.14987541,  265.00818798,\n",
       "        302.86650055,  340.72481312,  378.58312568,  378.58312568,\n",
       "        378.58312568,  378.58312568,  378.58312568,  378.58312568,\n",
       "        378.58312568,  652.10452859,  886.01709859, 1068.19154351,\n",
       "       1207.51665722, 1311.11548293, 1384.981697  , 1434.39060785,\n",
       "       1464.19751814, 1479.09759773, 1485.5388706 ])"
      ]
     },
     "execution_count": 23,
     "metadata": {},
     "output_type": "execute_result"
    }
   ],
   "source": [
    "dpv_array"
   ]
  },
  {
   "cell_type": "code",
   "execution_count": 24,
   "metadata": {},
   "outputs": [
    {
     "data": {
      "text/plain": [
       "array([   0.        ,    0.        ,    0.        ,    0.        ,\n",
       "          0.        ,    0.        ,    0.        ,    0.        ,\n",
       "          0.        ,    0.        ,    0.        ,  777.71749988,\n",
       "       1555.43499977, 2333.15249965, 3110.86999953, 3888.58749941,\n",
       "       4666.3049993 , 4666.3049993 , 4666.3049993 , 4666.3049993 ,\n",
       "       4666.3049993 , 4666.3049993 , 4666.3049993 , 4666.3049993 ,\n",
       "       4666.3049993 , 4666.3049993 , 4666.3049993 ])"
      ]
     },
     "execution_count": 24,
     "metadata": {},
     "output_type": "execute_result"
    }
   ],
   "source": [
    "dpa_array"
   ]
  },
  {
   "cell_type": "code",
   "execution_count": 25,
   "metadata": {},
   "outputs": [
    {
     "data": {
      "text/plain": [
       "array([   0.        ,   50.02819947,  100.05639895,  150.08459842,\n",
       "        200.1127979 ,  250.14099737,  300.16919685,  350.19739632,\n",
       "        400.22559579,  450.25379527,  500.28199474,  566.98626071,\n",
       "        633.69052667,  700.39479264,  767.0990586 ,  833.80332457,\n",
       "        900.50759054,  995.680613  , 1081.14844826, 1156.51664926,\n",
       "       1221.80944063, 1277.04137553, 1322.22107412, 1357.35344739,\n",
       "       1382.4410659 , 1397.48501388, 1402.48541017])"
      ]
     },
     "execution_count": 25,
     "metadata": {},
     "output_type": "execute_result"
    }
   ],
   "source": [
    "dpl_array"
   ]
  },
  {
   "cell_type": "code",
   "execution_count": null,
   "metadata": {},
   "outputs": [],
   "source": []
  }
 ],
 "metadata": {
  "kernelspec": {
   "display_name": "Python 3",
   "language": "python",
   "name": "python3"
  },
  "language_info": {
   "codemirror_mode": {
    "name": "ipython",
    "version": 3
   },
   "file_extension": ".py",
   "mimetype": "text/x-python",
   "name": "python",
   "nbconvert_exporter": "python",
   "pygments_lexer": "ipython3",
   "version": "3.8.5"
  }
 },
 "nbformat": 4,
 "nbformat_minor": 2
}
