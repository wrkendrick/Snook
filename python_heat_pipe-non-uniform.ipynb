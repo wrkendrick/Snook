{
 "cells": [
  {
   "cell_type": "code",
   "execution_count": 27,
   "metadata": {},
   "outputs": [],
   "source": [
    "import numpy as np\n",
    "import math\n",
    "import matplotlib.pyplot as plt"
   ]
  },
  {
   "cell_type": "code",
   "execution_count": 2,
   "metadata": {},
   "outputs": [],
   "source": [
    "def saturation_temperature(pressure):\n",
    "    pvc = [-51.574, 0.20636, -0.29381e-3, 0.2231e-6, -0.86184e-10, 1.3299e-14]\n",
    "    tlo = 400.0\n",
    "    thi = 1800.0\n",
    "    for j in range(100):\n",
    "        temp = (tlo+thi)/2.0\n",
    "        pv = pvc[5]\n",
    "        for i in range(4,-1,-1):\n",
    "            pv = temp*pv + pvc[i]\n",
    "        pv = 10.0*math.exp(pv)  \n",
    "        #print(j,temp,pv,pressure)\n",
    "        if (abs(pv-pressure) < 0.001):\n",
    "            break\n",
    "        if (pv < pressure):\n",
    "            tlo = temp\n",
    "        else:\n",
    "            thi = temp\n",
    "    return temp"
   ]
  },
  {
   "cell_type": "code",
   "execution_count": 3,
   "metadata": {},
   "outputs": [],
   "source": [
    "def fmax(fmx,spec_heat_ratio, inlet_mach):\n",
    "    phi = (.3403/fmx**0.255)**2\n",
    "    if (inlet_mach > 1.0):\n",
    "        phi = (1.0286*math.exp(2.4938*fmx))**2\n",
    "    for i in range(50):\n",
    "        checkval = (spec_heat_ratio+1.0)*phi/2./(1.0+(spec_heat_ratio-1.0)/2.*phi)\n",
    "        f = (1.0-phi)/spec_heat_ratio/phi+(spec_heat_ratio+1.0)/2./spec_heat_ratio*math.log((spec_heat_ratio+1.0)*phi/2./(1.0+(spec_heat_ratio-1.0)/2.*phi))-fmx\n",
    "        if (abs(f)<0.0001):\n",
    "            break\n",
    "        df = (spec_heat_ratio+1.0)/(2.*spec_heat_ratio*phi*(1.0+(spec_heat_ratio-1.0)/2.*phi)) - 1.0/spec_heat_ratio/phi**2\n",
    "        df1 = (spec_heat_ratio+1.0)/(2.*spec_heat_ratio*phi*(1.0+(spec_heat_ratio-1.0)/2.*phi))\n",
    "        df2 = 1.0/spec_heat_ratio/phi**2\n",
    "        phi_new = phi - f/df\n",
    "        if (phi_new <= 0.0):\n",
    "            phi_new = 1e-6\n",
    "        if (inlet_mach < 1.0 and phi_new > 1.0):\n",
    "            phi_new = 0.9999\n",
    "        if (inlet_mach >= 1.0 and phi_new < 1.0):\n",
    "            phi_new = 1.0001\n",
    "        phi = phi_new\n",
    "    exit_mach = math.sqrt(phi)\n",
    "    return exit_mach"
   ]
  },
  {
   "cell_type": "code",
   "execution_count": 4,
   "metadata": {},
   "outputs": [],
   "source": [
    "def pressure_ratio(mach, spec_heat_ratio):\n",
    "    pressr = math.sqrt((spec_heat_ratio+1.0)/2./(1.0+(spec_heat_ratio-1.0)/2.*mach**2))/mach\n",
    "    return pressr"
   ]
  },
  {
   "cell_type": "code",
   "execution_count": 5,
   "metadata": {},
   "outputs": [],
   "source": [
    "def flmax(mach, spec_heat_ratio):\n",
    "    fl = (1.0-mach**2)/spec_heat_ratio/mach**2+(spec_heat_ratio+1.0)/2./spec_heat_ratio*math.log((spec_heat_ratio+1.0)*mach**2/2./(1.0+(spec_heat_ratio-1.0)/2.*mach**2))\n",
    "    return fl"
   ]
  },
  {
   "cell_type": "code",
   "execution_count": 6,
   "metadata": {},
   "outputs": [],
   "source": [
    "def friction(reynolds):\n",
    "    if (reynolds>2000 and reynolds <= 20000):\n",
    "        f= 0.079/reynolds**0.25\n",
    "    elif (reynolds>20000):\n",
    "        f = 0.046/reynolds**.2\n",
    "    else:\n",
    "        f = 16.0/reynolds\n",
    "    return f"
   ]
  },
  {
   "cell_type": "code",
   "execution_count": 7,
   "metadata": {},
   "outputs": [],
   "source": [
    "def fluid_properties(temp):\n",
    "    #coefficients for potassium\n",
    "    pvc = [-51.574, 0.20636, -0.29381e-3, 0.2231e-6, -0.86184e-10, 1.3299e-14]\n",
    "    rholc = [940.43, -0.42954, 0.42662e-3, -0.42981e-6, 0.19884e-9, -3.4521e-14]\n",
    "    mulc = [0.0016193, -0.55722e-5,0.87656e-8, -0.70683e-11, 2.8447e-15, -4.5263e-19]\n",
    "    muvc = [0.54558e-5, 0.69661e-8, 0.30725e-10, -3.9354e-14, 1.9365e-17, -3.5469e-21]\n",
    "    sigc = [0.13127, -6.6e-5, 2.7756e-17, -5.7598e-20, 1.7371e-23, -5.0487e-27]\n",
    "    hfgc = [2226400.0, 135.36, -0.60104, 0.15934e-3, 0.42749e-7, -0.20228e-10]\n",
    "    rhovc = [-0.60872e2, 0.19765, -0.28146e-3, 0.21319e-6, -0.82191e-10, 0.1268e-13]\n",
    "    ctlc = [0.68968e2, -0.36091e-1, -0.35049e-4, 0.60981e-7, -0.34141e-10, 0.66235e-14]\n",
    "    mwc = 39.1\n",
    "    rkc = [1.7402, -0.1238e-3]\n",
    "    pv = pvc[5]\n",
    "    rhol = rholc[5]\n",
    "    mul = mulc[5]\n",
    "    muv = muvc[5]\n",
    "    sig = sigc[5]\n",
    "    hfg = hfgc[5]\n",
    "    rhov = rhovc[5]\n",
    "    cfluid = ctlc[5]\n",
    "    for i in range(4,-1,-1):\n",
    "        pv = temp*pv + pvc[i]\n",
    "        rhol = temp*rhol + rholc[i]\n",
    "        mul = temp*mul + mulc[i]\n",
    "        muv = temp*muv + muvc[i]\n",
    "        sig = temp*sig + sigc[i]\n",
    "        hfg = temp*hfg + hfgc[i]\n",
    "        rhov = temp*rhov + rhovc[i]\n",
    "        cfluid = temp*cfluid + ctlc[i]\n",
    "    mw = mwc\n",
    "    rk = rkc[0]+temp*rkc[1]\n",
    "    pv = 10.0*math.exp(pv)\n",
    "    rhol = 0.001*rhol\n",
    "    muv = 10.0*muv\n",
    "    hfg = 0.001*hfg\n",
    "    sig = 1000.0*sig\n",
    "    rhov = 0.001*math.exp(rhov)\n",
    "    mul = 10.0*mul\n",
    "    return pv, rhol, mul, muv, sig, hfg, rhov, cfluid, mw, rk"
   ]
  },
  {
   "cell_type": "code",
   "execution_count": 8,
   "metadata": {},
   "outputs": [],
   "source": [
    "def dpe_evap(q_total):\n",
    "    q = q_total / 2.0\n",
    "    qhfg = q/hfg\n",
    "    qhfgt = q_total/hfg\n",
    "    dple = 6.0*mu_l*qhfg*le/(math.pi*rv*a**3*rho_l)\n",
    "    dv = 2*rv #math.sqrt(4.0*av/math.pi)  #diameter\n",
    "    vy = qhfgt/rho_v/av\n",
    "    reyv = 4.0*qhfgt/math.pi/mu_v/dv\n",
    "    rrn = qhfgt/2./math.pi/le/mu_v\n",
    "    psi = 0.61*rrn+0.61*rrn/(3.6+rrn) # velocity profile correction factor C\n",
    "    avis = 16.0/reyv*le/dv\n",
    "    beta= avis*psi\n",
    "    dpve = avis*(qhfgt/av)**2/rho_v\n",
    "    dpie = (qhfgt/av)**2*beta/rho_v\n",
    "    return dpie,dpve,dple"
   ]
  },
  {
   "cell_type": "code",
   "execution_count": 9,
   "metadata": {},
   "outputs": [],
   "source": [
    "def dpa_adiab(temp, q_total):\n",
    "    qhfg = q_total/hfg\n",
    "    dpla = 6.0*mu_l*qhfg*la/(math.pi*rv*a**3*rho_l)\n",
    "    rm1 = qhfg/av/rho_v/math.sqrt(rbar*temp/mw)  #mach number at exit\n",
    "    rey = 4.0*qhfg/math.pi/2.0/rv/mu_v\n",
    "    f = friction(rey)\n",
    "    if (rm1 > 0.2):\n",
    "        fl2 = flmax(rm1,rk)-4.0*f*la/2.0/rv\n",
    "        rm2 = 1.0\n",
    "        if (fl2 > 0.0):\n",
    "            rm2 = fmax(fl2,rk,rm1)\n",
    "    else:\n",
    "        rm2 = rm1\n",
    "    if (rm2 > 0.3):\n",
    "        pr = pressure_ratio(rm1,rk)/pressure_ratio(rm2,rk)\n",
    "        if (pr <1.0 or pr > 2.08):\n",
    "            pr = 2.08\n",
    "        pa2 = pv/pr\n",
    "        dpa = (pv-pa2)/2.0\n",
    "    else:\n",
    "        dpa = 2.0*f*la/(2.0*rv)*qhfg**2/rho_v/av**2\n",
    "        pa2 = pv-dpa\n",
    "    tbc = saturation_temperature(pa2)\n",
    "    return dpla, dpa"
   ]
  },
  {
   "cell_type": "code",
   "execution_count": 10,
   "metadata": {},
   "outputs": [],
   "source": [
    "def dpc_cond(q_total):\n",
    "    qhfg = q_total/hfg\n",
    "    qa = q1_array[i]\n",
    "    qb = q1_array[i+1]\n",
    "    lc1 = lc/cinc\n",
    "    cfract = (distance[i]-le-la)/lc\n",
    "    qrad = qa-qb\n",
    "    qhfg1 = (qa+qb)/(2.0*hfg)\n",
    "    dplc = 6.0*mu_l*qhfg1*lc1/(math.pi*rv*a**3*rho_l)\n",
    "    rreyc = -qhfg/2.0/math.pi/lc1/mu_v\n",
    "    reyc = 4.0*qhfg1/math.pi/2.0/rv/mu_v\n",
    "    vci = qa/hfg/av/rho_v\n",
    "    vcii = qb/hfg/av/rho_v\n",
    "    #Busse correction not yet added, check Reynolds\n",
    "    f = friction(reyc)\n",
    "    dpvc = 4.0*f*(lc1/2.0)*rho_v*vci**2/(4.0*rv)\n",
    "    lparam = (2.0*le+4.0*la)/lc\n",
    "    recov = (rreyc+2.0)/(1.23*rreyc-lparam)\n",
    "    dpic = -(vci**2-vcii**2)*rho_v*recov\n",
    "    return dpic, dpvc, dplc"
   ]
  },
  {
   "cell_type": "code",
   "execution_count": 11,
   "metadata": {},
   "outputs": [],
   "source": [
    "def sonic_limit(temp, q_total):\n",
    "    pv, rho_l, mu_l, mu_v, sig, hfg, rho_v, cfluid, mw, rk = fluid_properties(temp)\n",
    "    qs = q_total/hfg\n",
    "    for i in range(10):\n",
    "        reys = 4.0*qs/math.pi/2.0/rv/mu_v\n",
    "        f = friction(reys)\n",
    "        fli = 4.0*f*la/2.0/rv\n",
    "        rmis = fmax(fli,rk,0.0)\n",
    "        w1 = rmis*math.sqrt(rbar*temp/mw)\n",
    "        rreys = reys*rv/4.0/le\n",
    "        ab = 1.22+1.22/(3.6+rreys)\n",
    "        dpvs = 8.0*mu_v*w1/rv**2*le/2.0\n",
    "        dpis = rho_v*ab*w1**2\n",
    "        pos = pv + dpis + dpvs\n",
    "        te_sonic = saturation_temperature(pos)\n",
    "        q_sonic = math.sqrt(rho_v*pv)*av*hfg*rmis\n",
    "        pci = pv/pressure_ratio(rmis,rk)\n",
    "        tc_sonic = saturation_temperature(pci)\n",
    "        if abs(q_sonic-qs*hfg)<1.0:\n",
    "            break\n",
    "        else:\n",
    "            qs = q_sonic/hfg\n",
    "    return q_sonic, pci, tc_sonic"
   ]
  },
  {
   "cell_type": "code",
   "execution_count": 12,
   "metadata": {},
   "outputs": [],
   "source": [
    "def entrainment_limit(temp,pci,tc_sonic):\n",
    "    pv, rho_l, mu_l, mu_v, sig, hfg, rho_v, cfluid, mw, rk = fluid_properties(temp)\n",
    "    tcie = tc_sonic\n",
    "    p2e = pci\n",
    "    z = wire_radius\n",
    "    for i in range(10):\n",
    "        rhov1 = mw*p2e/(rbar*tcie)\n",
    "        w2e = math.sqrt(2.0*math.pi/z/rhov1)\n",
    "        rm2e = w2e/math.sqrt(rk*rbar/mw*tcie)\n",
    "        if rm2e > 1.0:\n",
    "            rm2e = 1.0\n",
    "        reye = 2.0*rv*rhov1*w2e/mu_v\n",
    "        f = friction(reye)\n",
    "        fl2e = 4.0*f*la/2.0/rv\n",
    "        fl1e = fl2e + flmax(rm2e,rk)\n",
    "        rm1e = fmax(fl1e,rk,0.0)\n",
    "        p2e = pv*pressure_ratio(rm2e,rk)/pressure_ratio(rm1e,rk)\n",
    "        tcie2 = saturation_temperature(p2e)\n",
    "        if abs(tcie2-tcie)<1.0:\n",
    "            break\n",
    "        else:\n",
    "            tcie = tcie2\n",
    "    qentrn = math.sqrt(2.0*math.pi*rhov1*sig/z)*hfg*av\n",
    "    return qentrn"
   ]
  },
  {
   "cell_type": "code",
   "execution_count": 13,
   "metadata": {},
   "outputs": [],
   "source": [
    "def boiling_limit(temp):\n",
    "    pv, rho_l, mu_l, mu_v, sig, hfg, rho_v, cfluid, mw, rk = fluid_properties(temp)\n",
    "    rnuc = 0.00127  #nucleation site radius\n",
    "    dtboil = 2.0*sig*temp/(rho_v*hfg*rnuc)\n",
    "    rkw = eff_pore_radius*cfluid + (1.0-eff_pore_radius)*k_wick\n",
    "    a1 = 2.0*math.pi*radius_in*le\n",
    "    dtloq = a/(a1*rkw)\n",
    "    alv = 2.0*math.pi*(radius_in-a)*le*eff_pore_radius\n",
    "    r = rbar/mw\n",
    "    dtlv = (2.0*math.pi)**0.5*r**1.5*temp**2.5/(alv*pv*hfg**2)\n",
    "    qboil = dtboil/(dtloq+dtlv)\n",
    "    return qboil"
   ]
  },
  {
   "cell_type": "code",
   "execution_count": 14,
   "metadata": {},
   "outputs": [
    {
     "name": "stdout",
     "output_type": "stream",
     "text": [
      "q total =  15000\n"
     ]
    }
   ],
   "source": [
    "t_sink = 300\n",
    "q_total = 15122 #total power in watts\n",
    "le = 50.0\n",
    "la = 20.0\n",
    "lc = 50.0\n",
    "cinc = 10 #increment in condenser\n",
    "ainc = 6\n",
    "einc = 10\n",
    "#qe_array = [1500.0,3500.0,5000.0,3500.0,1500.0]\n",
    "qe_array = [1500,1500,1500,1500,1500,1500,1500,1500,1500,1500]\n",
    "q_total = sum(qe_array)\n",
    "print('q total = ', q_total)\n",
    "theta = 0.0  #inclination angle\n",
    "radius_in = 1.75 \n",
    "wick_porosity = 0.6\n",
    "k_wick = 0.13\n",
    "k_wall = 0.13\n",
    "nucl_radius = 0.00127\n",
    "radius_out = 1.9\n",
    "screen_thickness = 0.1\n",
    "wire_radius = 0.002\n",
    "annulus_thickness = 0.1\n",
    "eff_pore_radius = 0.004\n",
    "h_sink = 0.05\n",
    "rbar = 8.314e7\n",
    "grav = 980.0\n",
    "\n",
    "a = annulus_thickness\n",
    "cond_area = 2*math.pi*lc*radius_out/cinc #condenser area for each mesh, acondi\n",
    "abd = math.log(radius_out/radius_in)\n",
    "abc = math.log(radius_in/(radius_in-annulus_thickness))\n",
    "\n",
    "icondb = einc+ainc+1 #index of beginning of condenser\n",
    "iconde = einc+ainc+cinc #index of end of condenser\n",
    "iadiab = einc+ainc\n",
    "if (t_sink > 400.0):   #for potassium\n",
    "    tlow = t_sink\n",
    "else:\n",
    "    tlow = 400.0\n",
    "thigh = 1800.0  # for potassium"
   ]
  },
  {
   "cell_type": "code",
   "execution_count": 15,
   "metadata": {},
   "outputs": [
    {
     "name": "stdout",
     "output_type": "stream",
     "text": [
      "iteration  0 22519.897547410583 15000 1100.0\n",
      "iteration  1 13188.88302185201 15000 750.0\n",
      "iteration  2 17610.88592290223 15000 925.0\n",
      "iteration  3 15229.329443486495 15000 837.5\n",
      "iteration  4 14065.034168474267 15000 793.75\n",
      "iteration  5 14663.496878278545 15000 815.625\n",
      "iteration  6 14944.721303636947 15000 826.5625\n",
      "iteration  7 15086.520376528226 15000 832.03125\n",
      "iteration  8 15015.498341645682 15000 829.296875\n",
      "iteration  9 14980.080033865455 15000 827.9296875\n",
      "Converged  10 14997.781621746022 15000 828.61328125\n",
      "4604.259966005878\n"
     ]
    }
   ],
   "source": [
    "total_mesh = cinc+ainc+einc+1\n",
    "distance = np.zeros(total_mesh)\n",
    "dpi_array = np.zeros(total_mesh)\n",
    "dpv_array = np.zeros(total_mesh)\n",
    "dpl_array = np.zeros(total_mesh)\n",
    "dpv_total = np.zeros(total_mesh)\n",
    "dpa_array = np.zeros(total_mesh)\n",
    "dp_array = np.zeros(total_mesh)\n",
    "q1_array = np.zeros(total_mesh)\n",
    "pvap = np.zeros(total_mesh)\n",
    "tempx = np.zeros(total_mesh)\n",
    "for i in range(einc+1):\n",
    "    distance[i] = i*le/einc\n",
    "for i in range(einc+1,einc+ainc+1):\n",
    "    distance[i] = le + (i-(einc))*la/ainc\n",
    "for i in range(einc+ainc+1,total_mesh):\n",
    "    distance[i] = le + la + (i-(einc+ainc))*lc/cinc\n",
    "#only once\n",
    "rv = radius_in - annulus_thickness - screen_thickness\n",
    "b = (radius_in+rv+screen_thickness)*math.pi\n",
    "av = math.pi*rv*rv\n",
    "rh = a*b/(a+b)\n",
    "al = a*b\n",
    "#iteration on T evaporator exit\n",
    "for k in range(20):\n",
    "    tguess = (thigh+tlow)/2  # guess temperature at the end of evaporator, iterate until q in equals q out\n",
    "    ### EVAPORATOR\n",
    "    pv, rho_l, mu_l, mu_v, sig, hfg, rho_v, cfluid, mw, rk = fluid_properties(tguess)\n",
    "    #conduction heat sink\n",
    "    rcond = (1/h_sink+radius_out*abd/k_wall+radius_in/cfluid*abc)/cond_area  #heat transfer from inside to outside\n",
    "    dpie,dpve,dple = dpe_evap(q_total)\n",
    "    dpe = dpie+dpve\n",
    "    pvap[0] = pv + dpe\n",
    "    tempx[0]= saturation_temperature(pvap[0])\n",
    "    for i in range(1,einc+1):  #boundary 1 to 5\n",
    "        q1_array[i] = q1_array[i-1]+qe_array[i-1]\n",
    "        dpie,dpve,dple = dpe_evap(q1_array[i])\n",
    "        dpi_array[i] = dpie\n",
    "        dpv_array[i] = dpve\n",
    "        dpl_array[i] = dple\n",
    "        dpe = dpi_array[i]+dpv_array[i]\n",
    "        pvap[i] = pvap[0]-dpe\n",
    "        tempx[i] =saturation_temperature(pvap[i])\n",
    "        dpv_total[i] = dpv_array[i]+dpi_array[i]+dpa_array[i]\n",
    "    ### ADIABATIC\n",
    "    dpla, dpa = dpa_adiab(tguess, q_total)\n",
    "    # print(k,\" -- DPLA: \",dpla,\" , DPA: \",dpa)\n",
    "    for i in range (einc+1,iadiab+1):  # boundary 6 and 8\n",
    "        afract = (distance[i]-le)/la\n",
    "        dpa_array[i] = dpa*afract\n",
    "        dpl_array[i] = dpl_array[i-1] + dpla/ainc\n",
    "        q1_array[i] = q1_array[i-1]\n",
    "        dpi_array[i] = dpi_array[i-1]\n",
    "        dpv_array[i] = dpv_array[i-1]\n",
    "        pvap[i] = pvap[einc] - dpa_array[i]\n",
    "        tempx[i] = saturation_temperature(pvap[i])\n",
    "        dpv_total[i] = dpv_array[i]+dpi_array[i]+dpa_array[i]\n",
    "    pvap[icondb-1] = pv-dpa\n",
    "    tempx[icondb-1] = saturation_temperature(pvap[icondb-1])\n",
    "    q1_array[icondb-1] = q_total\n",
    "    ### CONDENSOR - convective coupling\n",
    "    qcond = 0.0\n",
    "    for i in range(icondb-1,iconde):\n",
    "        qout = (tempx[i]-t_sink)/rcond   #heat out in mesh i\n",
    "        if (qout < 0.0):    #if t_sink > tempx, guess temperature is too high\n",
    "            print('ierror 2')\n",
    "            thigh = tguess\n",
    "            break\n",
    "        qcond = qcond + qout\n",
    "        q1_array[i+1] = q1_array[i]-qout\n",
    "        dpic,dpvc, dplc = dpc_cond(q_total)\n",
    "        dpc = dpic+dpvc\n",
    "        ### end of dpcond\n",
    "        pvap[i+1] = pvap[i]-dpc\n",
    "        if (pvap[i+1] < 0.0):\n",
    "            print('ierror 3')\n",
    "            break\n",
    "        tempx[i+1] = saturation_temperature(pvap[i+1])\n",
    "        pv, rho_l, mu_l, mu_v, sig, hfg, rho_v, cfluid, mw, rk = fluid_properties(tempx[i+1])\n",
    "        #conduction heat sink\n",
    "        rcond = (1/h_sink+radius_out*abd/k_wall+radius_in/cfluid*abc)/cond_area  #heat transfer from inside to outside\n",
    "        dpi_array[i+1] = dpi_array[i]+dpic\n",
    "        dpv_array[i+1] = dpv_array[i]+dpvc\n",
    "        dpa_array[i+1] = dpa_array[i]\n",
    "        dpl_array[i+1] = dpl_array[i]+dplc\n",
    "        dpv_total[i+1] = dpv_total[i]+dpc\n",
    "    if abs((qcond-q_total)/q_total)<0.001:\n",
    "        print('Converged ', k, qcond, q_total, tguess)\n",
    "        break\n",
    "    elif (qcond > q_total):\n",
    "        thigh = tguess\n",
    "    else:\n",
    "        tlow = tguess\n",
    "    print('iteration ', k, qcond,q_total, tguess)\n",
    "#add limit checks\n",
    "# capillary, sonic, boiling and entrainment limits\n",
    "if (min(pvap) < max(dpv_total)):\n",
    "    print('Capillary limit exceeded')\n",
    "q_sonic, pci, tc_sonic = sonic_limit(tguess,q_total)\n",
    "if (q_total > q_sonic):\n",
    "    print('Sonic limit exceeded')\n",
    "q_entrn = entrainment_limit(tguess, pci,tc_sonic)\n",
    "if (q_total > q_entrn):\n",
    "    print('Entrainment limit exceeded')\n",
    "q_boil = boiling_limit(tguess)\n",
    "print(q_boil)"
   ]
  },
  {
   "cell_type": "code",
   "execution_count": 16,
   "metadata": {
    "scrolled": true
   },
   "outputs": [
    {
     "name": "stdout",
     "output_type": "stream",
     "text": [
      "    0.00    842.42      0.00      0.00\n",
      "    5.00    842.27   1500.00    239.52\n",
      "   10.00    841.87   3000.00    887.09\n",
      "   15.00    841.21   4500.00   1940.08\n",
      "   20.00    840.29   6000.00   3398.33\n",
      "   25.00    839.10   7500.00   5261.80\n",
      "   30.00    837.63   9000.00   7530.48\n",
      "   35.00    835.87  10500.00  10204.36\n",
      "   40.00    833.79  12000.00  13283.43\n",
      "   45.00    831.38  13500.00  16767.70\n",
      "   50.00    828.61  15000.00  20657.17\n",
      "   53.33    828.42  15000.00  20917.33\n",
      "   56.67    828.24  15000.00  21177.49\n",
      "   60.00    828.05  15000.00  21437.66\n",
      "   63.33    827.86  15000.00  21697.82\n",
      "   66.67    827.67  15000.00  21957.99\n",
      "   70.00    827.48  15000.00  22218.15\n",
      "   75.00    829.18  13515.19  19874.16\n",
      "   80.00    830.68  12025.58  17771.04\n",
      "   85.00    831.97  10531.75  15932.87\n",
      "   90.00    833.06   9034.30  14351.24\n",
      "   95.00    833.97   7533.76  13019.73\n",
      "  100.00    834.71   6030.66  11933.68\n",
      "  105.00    835.28   4525.48  11089.96\n",
      "  110.00    835.68   3018.71  10486.92\n",
      "  115.00    835.92   1510.81  10124.33\n",
      "  120.00    836.00      2.22  10004.45\n"
     ]
    }
   ],
   "source": [
    "fmt = '{:{f}}  {:{f}}  {:{f}}  {:{f}}'\n",
    "for i in range(total_mesh):\n",
    "    print(fmt.format(distance[i],tempx[i],q1_array[i],dpv_total[i], f='8.2f'))"
   ]
  },
  {
   "cell_type": "code",
   "execution_count": 28,
   "metadata": {},
   "outputs": [
    {
     "data": {
      "text/plain": [
       "[<matplotlib.lines.Line2D at 0x7f610d1d4b20>]"
      ]
     },
     "execution_count": 28,
     "metadata": {},
     "output_type": "execute_result"
    },
    {
     "data": {
      "image/png": "[encoded data removed]",
      "text/plain": [
       "<Figure size 432x288 with 1 Axes>"
      ]
     },
     "metadata": {
      "needs_background": "light"
     },
     "output_type": "display_data"
    }
   ],
   "source": [
    "plt.plot(distance,tempx)"
   ]
  },
  {
   "cell_type": "code",
   "execution_count": 17,
   "metadata": {},
   "outputs": [
    {
     "data": {
      "text/plain": [
       "array([0.00000000e+00, 1.50000000e+03, 3.00000000e+03, 4.50000000e+03,\n",
       "       6.00000000e+03, 7.50000000e+03, 9.00000000e+03, 1.05000000e+04,\n",
       "       1.20000000e+04, 1.35000000e+04, 1.50000000e+04, 1.50000000e+04,\n",
       "       1.50000000e+04, 1.50000000e+04, 1.50000000e+04, 1.50000000e+04,\n",
       "       1.50000000e+04, 1.35151857e+04, 1.20255794e+04, 1.05317527e+04,\n",
       "       9.03429596e+03, 7.53375834e+03, 6.03065666e+03, 4.52548316e+03,\n",
       "       3.01871205e+03, 1.51080536e+03, 2.21837825e+00])"
      ]
     },
     "execution_count": 17,
     "metadata": {},
     "output_type": "execute_result"
    }
   ],
   "source": [
    "q1_array"
   ]
  },
  {
   "cell_type": "code",
   "execution_count": 18,
   "metadata": {},
   "outputs": [
    {
     "data": {
      "text/plain": [
       "array([  0.        ,   5.        ,  10.        ,  15.        ,\n",
       "        20.        ,  25.        ,  30.        ,  35.        ,\n",
       "        40.        ,  45.        ,  50.        ,  53.33333333,\n",
       "        56.66666667,  60.        ,  63.33333333,  66.66666667,\n",
       "        70.        ,  75.        ,  80.        ,  85.        ,\n",
       "        90.        ,  95.        , 100.        , 105.        ,\n",
       "       110.        , 115.        , 120.        ])"
      ]
     },
     "execution_count": 18,
     "metadata": {},
     "output_type": "execute_result"
    }
   ],
   "source": [
    "distance"
   ]
  },
  {
   "cell_type": "code",
   "execution_count": 19,
   "metadata": {},
   "outputs": [
    {
     "data": {
      "text/plain": [
       "array([    0.        ,   239.52118553,   887.08616132,  1940.07747016,\n",
       "        3398.32936848,  5261.80190444,  7530.48061215, 10204.35898447,\n",
       "       13283.43366146, 16767.70273294, 20657.16503268, 20917.32979706,\n",
       "       21177.49456144, 21437.65932583, 21697.82409021, 21957.9888546 ,\n",
       "       22218.15361898, 19874.15730999, 17771.04164421, 15932.87413134,\n",
       "       14351.24175132, 13019.733026  , 11933.67534151, 11089.95663971,\n",
       "       10486.91899455, 10124.32670328, 10004.44640073])"
      ]
     },
     "execution_count": 19,
     "metadata": {},
     "output_type": "execute_result"
    }
   ],
   "source": [
    "dpv_total"
   ]
  },
  {
   "cell_type": "code",
   "execution_count": 20,
   "metadata": {},
   "outputs": [
    {
     "data": {
      "text/plain": [
       "array([117877.75202884, 117638.23084332, 116990.66586752, 115937.67455869,\n",
       "       114479.42266037, 112615.9501244 , 110347.2714167 , 107673.39304438,\n",
       "       104594.31836738, 101110.0492959 ,  97220.58699617,  96960.42223178,\n",
       "        96700.2574674 ,  96440.09270301,  96179.92793863,  95919.76317425,\n",
       "        95659.59840986,  98003.59471885, 100106.71038464, 101944.87789751,\n",
       "       103526.51027753, 104858.01900284, 105944.07668733, 106787.79538913,\n",
       "       107390.83303429, 107753.42532556, 107873.30562811])"
      ]
     },
     "execution_count": 20,
     "metadata": {},
     "output_type": "execute_result"
    }
   ],
   "source": [
    "pvap"
   ]
  },
  {
   "cell_type": "code",
   "execution_count": 21,
   "metadata": {},
   "outputs": [
    {
     "data": {
      "text/plain": [
       "array([    0.        ,   214.5738756 ,   837.19154147,  1865.23554038,\n",
       "        3298.54012878,  5137.06535482,  7380.7967526 , 10029.72781499,\n",
       "       13083.85518207, 16543.17694362, 20407.69193343, 20407.69193343,\n",
       "       20407.69193343, 20407.69193343, 20407.69193343, 20407.69193343,\n",
       "       20407.69193343, 17876.50999083, 15618.29544476, 13655.82052926,\n",
       "       11976.97240847, 10571.89987085,  9432.66741194,  8553.0005592 ,\n",
       "        7928.10024634,  7554.51172246,  7430.03837074])"
      ]
     },
     "execution_count": 21,
     "metadata": {},
     "output_type": "execute_result"
    }
   ],
   "source": [
    "dpi_array"
   ]
  },
  {
   "cell_type": "code",
   "execution_count": 22,
   "metadata": {},
   "outputs": [
    {
     "data": {
      "text/plain": [
       "array([   0.        ,   24.94730992,   49.89461985,   74.84192977,\n",
       "         99.7892397 ,  124.73654962,  149.68385955,  174.63116947,\n",
       "        199.5784794 ,  224.52578932,  249.47309925,  249.47309925,\n",
       "        249.47309925,  249.47309925,  249.47309925,  249.47309925,\n",
       "        249.47309925,  436.65873286,  591.75761314,  716.06501577,\n",
       "        813.28075654,  886.84456884,  940.01934326,  975.96749421,\n",
       "        997.8301619 , 1008.82639451, 1013.41944369])"
      ]
     },
     "execution_count": 22,
     "metadata": {},
     "output_type": "execute_result"
    }
   ],
   "source": [
    "dpv_array"
   ]
  },
  {
   "cell_type": "code",
   "execution_count": 23,
   "metadata": {},
   "outputs": [
    {
     "data": {
      "text/plain": [
       "array([   0.        ,    0.        ,    0.        ,    0.        ,\n",
       "          0.        ,    0.        ,    0.        ,    0.        ,\n",
       "          0.        ,    0.        ,    0.        ,  260.16476438,\n",
       "        520.32952877,  780.49429315, 1040.65905754, 1300.82382192,\n",
       "       1560.98858631, 1560.98858631, 1560.98858631, 1560.98858631,\n",
       "       1560.98858631, 1560.98858631, 1560.98858631, 1560.98858631,\n",
       "       1560.98858631, 1560.98858631, 1560.98858631])"
      ]
     },
     "execution_count": 23,
     "metadata": {},
     "output_type": "execute_result"
    }
   ],
   "source": [
    "dpa_array"
   ]
  },
  {
   "cell_type": "code",
   "execution_count": 24,
   "metadata": {},
   "outputs": [
    {
     "data": {
      "text/plain": [
       "array([   0.        ,   52.20368437,  104.40736874,  156.61105311,\n",
       "        208.81473748,  261.01842185,  313.22210622,  365.42579059,\n",
       "        417.62947496,  469.83315933,  522.0368437 ,  591.6417562 ,\n",
       "        661.24666869,  730.85158119,  800.45649368,  870.06140617,\n",
       "        939.66631867, 1038.90616906, 1127.76211827, 1206.16371706,\n",
       "       1274.11307611, 1331.61126663, 1378.65866371, 1415.25519672,\n",
       "       1441.40053061, 1457.09419371, 1462.3356625 ])"
      ]
     },
     "execution_count": 24,
     "metadata": {},
     "output_type": "execute_result"
    }
   ],
   "source": [
    "dpl_array"
   ]
  },
  {
   "cell_type": "code",
   "execution_count": null,
   "metadata": {},
   "outputs": [],
   "source": []
  }
 ],
 "metadata": {
  "kernelspec": {
   "display_name": "Python 3",
   "language": "python",
   "name": "python3"
  },
  "language_info": {
   "codemirror_mode": {
    "name": "ipython",
    "version": 3
   },
   "file_extension": ".py",
   "mimetype": "text/x-python",
   "name": "python",
   "nbconvert_exporter": "python",
   "pygments_lexer": "ipython3",
   "version": "3.8.5"
  }
 },
 "nbformat": 4,
 "nbformat_minor": 2
}
